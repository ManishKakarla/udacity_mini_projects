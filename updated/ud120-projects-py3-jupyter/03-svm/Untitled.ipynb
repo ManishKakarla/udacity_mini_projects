{
 "cells": [
  {
   "cell_type": "code",
   "execution_count": 1,
   "metadata": {},
   "outputs": [],
   "source": [
    "import numpy as np\n",
    "import pandas as pd\n",
    "import matplotlib.pyplot as plt\n",
    "from sklearn.naive_bayes import GaussianNB\n",
    "from sklearn.metrics import accuracy_score\n",
    "from sklearn.metrics import confusion_matrix"
   ]
  },
  {
   "cell_type": "code",
   "execution_count": 2,
   "metadata": {},
   "outputs": [],
   "source": [
    "def read_data(data_file):\n",
    "    data = pd.read_table(data_file, sep=',')\n",
    "\n",
    "    attributes = len(data.values[0])\n",
    "\n",
    "    X = data.values[0:, 0:attributes-1]\n",
    "    y = data.values[0:, attributes-1]\n",
    "\n",
    "    return X, y"
   ]
  },
  {
   "cell_type": "code",
   "execution_count": 4,
   "metadata": {},
   "outputs": [
    {
     "name": "stdout",
     "output_type": "stream",
     "text": [
      "(199, 64)\n",
      "(199,)\n",
      "(199,)\n",
      "[0 0 0 0 0 0 0 0 0 0 0 0 0 0 0 0 0 0 0 0 0 0 0 0 0 0 0 0 0 0 0 0 0 0 0 0 0\n",
      " 0 0 0 0 0 0 0 0 0 0 0 0 0 0 0 0 0 0 0 0 0 0 0 0 0 0 0 0 0 0 0 0 0 0 0 0 0\n",
      " 0 0 0 0 0 0 0 0 0 0 0 0 0 0 0 0 0 0 0 0 0 0 0 0 0 0 0 0 0 0 0 0 0 0 0 0 0\n",
      " 0 0 0 0 0 0 0 0 0 0 0 0 0 0 0 0 0 0 0 0 0 0 0 0 0 2 0 0 0 1 1 0 0 0 1 1 0\n",
      " 0 0 0 0 0 0 0 0 0 0 0 0 0 0 1 0 0 0 0 0 0 0 0 0 0 0 0 0 1 0 0 0 0 0 0 1 0\n",
      " 0 0 0 0 0 0 0 1 0 0 0 0 0 0]\n"
     ]
    }
   ],
   "source": [
    "train_x,train_y=read_data('C:/Users/STSC/Downloads/optdigits_69_N200.tra')\n",
    "test_x,test_y=read_data('C:/Users/STSC/Downloads/optdigits_69.tes')\n",
    "print(train_x.shape)\n",
    "print(train_x[:,1].shape)\n",
    "print(train_y.shape)\n",
    "\n",
    "print(train_x[:,1])\n",
    "sample_y=train_y[:]"
   ]
  },
  {
   "cell_type": "code",
   "execution_count": 5,
   "metadata": {},
   "outputs": [],
   "source": [
    "def var(*arg):\n",
    "    return np.sum(*arg-np.mean(*arg)**2)/len(*arg)"
   ]
  },
  {
   "cell_type": "code",
   "execution_count": 6,
   "metadata": {},
   "outputs": [
    {
     "name": "stdout",
     "output_type": "stream",
     "text": [
      "0.0\n",
      "0.05777631877982879\n",
      "12.701901467134666\n",
      "17.838034393070885\n",
      "21.24385747834651\n",
      "25.44455948082119\n",
      "11.926466503371127\n",
      "0.2218630842655488\n",
      "0.0\n",
      "4.672710285093811\n",
      "24.483927173556225\n",
      "14.800484836241507\n",
      "29.395520315143557\n",
      "35.22951440620186\n",
      "18.462261054013794\n",
      "0.8820484331203756\n",
      "0.0\n",
      "9.030630539632838\n",
      "11.307391227494255\n",
      "32.58963157496022\n",
      "32.759172748162925\n",
      "50.628216459180315\n",
      "14.615034973864297\n",
      "0.10429029569960355\n",
      "0.0\n",
      "8.110704275144569\n",
      "19.091487588697255\n",
      "28.0723214060251\n",
      "37.85773086538218\n",
      "52.173884497866226\n",
      "8.736648064442818\n",
      "0.0\n",
      "0.0\n",
      "7.070023484255447\n",
      "43.81939850003787\n",
      "34.71856771293654\n",
      "29.31931011843135\n",
      "20.191510315396076\n",
      "10.30489129062397\n",
      "0.0\n",
      "0.0\n",
      "2.5980657054114795\n",
      "55.47622534784477\n",
      "38.77801065629656\n",
      "33.73056235953638\n",
      "21.052347162950433\n",
      "24.78513168859372\n",
      "0.29923486780636843\n",
      "0.0\n",
      "1.0586601348450793\n",
      "28.356051614858202\n",
      "28.885280674730435\n",
      "27.29385621575213\n",
      "24.442766596803107\n",
      "35.54657710663872\n",
      "1.9680816141006536\n",
      "0.0\n",
      "0.04318072775940003\n",
      "12.720991894144086\n",
      "19.174717810156306\n",
      "11.17431377995505\n",
      "30.651700714628422\n",
      "20.755738491452238\n",
      "0.7145274109239665\n",
      "[0, 1, 8, 16, 24, 31, 32, 39, 40, 48, 56, 57]\n"
     ]
    }
   ],
   "source": [
    "p=[]\n",
    "for i in range(64):\n",
    "    \n",
    "    \n",
    "    #if train_x\n",
    "    print(train_x[:,i].var())\n",
    "    if train_x[:,i].var()<=0.1:# checking for variance less than 0.1 so that we can remove them\n",
    "        p.append(i)\n",
    "        \n",
    "    \n",
    "print(p)     "
   ]
  },
  {
   "cell_type": "code",
   "execution_count": 17,
   "metadata": {},
   "outputs": [
    {
     "name": "stdout",
     "output_type": "stream",
     "text": [
      "(199, 63)\n",
      "(199, 64)\n"
     ]
    }
   ],
   "source": [
    "print(train_x[:, :-1].shape)\n",
    "print(train_x.shape)"
   ]
  },
  {
   "cell_type": "code",
   "execution_count": 7,
   "metadata": {},
   "outputs": [
    {
     "name": "stdout",
     "output_type": "stream",
     "text": [
      "(199, 52)\n"
     ]
    }
   ],
   "source": [
    "train_x_new=np.delete(train_x,p,1)\n",
    "test_x_new=np.delete(test_x,p,1)\n",
    "print(train_x_new.shape)"
   ]
  },
  {
   "cell_type": "code",
   "execution_count": 8,
   "metadata": {},
   "outputs": [],
   "source": [
    "from sklearn.feature_selection import VarianceThreshold"
   ]
  },
  {
   "cell_type": "code",
   "execution_count": 23,
   "metadata": {},
   "outputs": [],
   "source": [
    "model=VarianceThreshold(threshold=0)\n"
   ]
  },
  {
   "cell_type": "code",
   "execution_count": 24,
   "metadata": {},
   "outputs": [
    {
     "data": {
      "text/plain": [
       "VarianceThreshold(threshold=0)"
      ]
     },
     "execution_count": 24,
     "metadata": {},
     "output_type": "execute_result"
    }
   ],
   "source": [
    "model.fit(train_x,train_y)"
   ]
  },
  {
   "cell_type": "code",
   "execution_count": 25,
   "metadata": {},
   "outputs": [
    {
     "data": {
      "text/plain": [
       "54"
      ]
     },
     "execution_count": 25,
     "metadata": {},
     "output_type": "execute_result"
    }
   ],
   "source": [
    "len(train_x.columns[model.get_support()])"
   ]
  },
  {
   "cell_type": "code",
   "execution_count": 27,
   "metadata": {},
   "outputs": [
    {
     "data": {
      "text/plain": [
       "array([[ 0,  0, 10, ..., 12,  1,  0],\n",
       "       [ 0,  2, 14, ..., 12,  4,  0],\n",
       "       [ 0,  2, 13, ...,  9,  1,  0],\n",
       "       ...,\n",
       "       [ 0,  0,  4, ...,  0,  0,  0],\n",
       "       [ 0,  6, 14, ..., 13,  1,  0],\n",
       "       [ 0,  2, 13, ..., 16,  4,  0]], dtype=int64)"
      ]
     },
     "execution_count": 27,
     "metadata": {},
     "output_type": "execute_result"
    }
   ],
   "source": [
    "model.fit_transform(train_x)"
   ]
  },
  {
   "cell_type": "code",
   "execution_count": 28,
   "metadata": {},
   "outputs": [],
   "source": [
    "train_x=pd.DataFrame(train_x)"
   ]
  },
  {
   "cell_type": "code",
   "execution_count": 29,
   "metadata": {},
   "outputs": [],
   "source": [
    "constant_columns=[column for column in train_x.columns if column not in train_x.columns[model.get_support()]]"
   ]
  },
  {
   "cell_type": "code",
   "execution_count": 31,
   "metadata": {},
   "outputs": [
    {
     "name": "stdout",
     "output_type": "stream",
     "text": [
      "[0, 8, 16, 24, 31, 32, 39, 40, 48, 56]\n"
     ]
    }
   ],
   "source": [
    "print(constant_columns)"
   ]
  },
  {
   "cell_type": "code",
   "execution_count": null,
   "metadata": {},
   "outputs": [],
   "source": []
  }
 ],
 "metadata": {
  "kernelspec": {
   "display_name": "Python 3",
   "language": "python",
   "name": "python3"
  },
  "language_info": {
   "codemirror_mode": {
    "name": "ipython",
    "version": 3
   },
   "file_extension": ".py",
   "mimetype": "text/x-python",
   "name": "python",
   "nbconvert_exporter": "python",
   "pygments_lexer": "ipython3",
   "version": "3.8.5"
  }
 },
 "nbformat": 4,
 "nbformat_minor": 4
}
