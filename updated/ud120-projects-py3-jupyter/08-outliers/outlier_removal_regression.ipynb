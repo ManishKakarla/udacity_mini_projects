{
 "cells": [
  {
   "cell_type": "markdown",
   "metadata": {},
   "source": [
    "# Starter code for the Outliers Mini-Project"
   ]
  },
  {
   "cell_type": "code",
   "execution_count": 1,
   "metadata": {},
   "outputs": [],
   "source": [
    "import random\n",
    "import pickle\n",
    "\n",
    "import numpy as np\n",
    "import matplotlib.pyplot as plt"
   ]
  },
  {
   "cell_type": "markdown",
   "metadata": {},
   "source": [
    "## Load up some practice data with outliers in it"
   ]
  },
  {
   "cell_type": "code",
   "execution_count": 2,
   "metadata": {
    "scrolled": true
   },
   "outputs": [],
   "source": [
    "with open('practice_outliers_ages.pkl', 'rb') as f:\n",
    "    ages = pickle.load(f)\n",
    "    \n",
    "with open('practice_outliers_net_worths.pkl', 'rb') as f:\n",
    "    net_worths = pickle.load(f)"
   ]
  },
  {
   "cell_type": "markdown",
   "metadata": {},
   "source": [
    "- ages and net_worths need to be reshaped into 2D numpy arrays\n",
    "- second argument of reshape command is a tuple of integers: `(n_rows, n_columns)`\n",
    "- by convention, `n_rows` is the number of data points\n",
    "- and `n_columns` is the number of features"
   ]
  },
  {
   "cell_type": "code",
   "execution_count": 3,
   "metadata": {},
   "outputs": [],
   "source": [
    "from sklearn.model_selection import train_test_split\n",
    "\n",
    "ages = np.reshape(np.array(ages), (len(ages), 1))\n",
    "net_worths = np.reshape(np.array(net_worths), (len(net_worths), 1))\n",
    "\n",
    "ages_train, ages_test, net_worths_train, net_worths_test = train_test_split(ages, net_worths, test_size=0.1, random_state=42)"
   ]
  },
  {
   "cell_type": "markdown",
   "metadata": {},
   "source": [
    "## ↓↓↓ Your Code Goes Here ↓↓↓"
   ]
  },
  {
   "cell_type": "markdown",
   "metadata": {},
   "source": [
    "Fill in a regression here!  Name the regression object `reg` so that the plotting code below works, and you can see what your regression looks like"
   ]
  },
  {
   "cell_type": "code",
   "execution_count": 40,
   "metadata": {},
   "outputs": [
    {
     "data": {
      "text/plain": [
       "LinearRegression()"
      ]
     },
     "execution_count": 40,
     "metadata": {},
     "output_type": "execute_result"
    }
   ],
   "source": [
    "from sklearn.linear_model import LinearRegression\n",
    "reg=LinearRegression()\n",
    "reg.fit(ages_train,net_worths_train)"
   ]
  },
  {
   "cell_type": "markdown",
   "metadata": {},
   "source": [
    "Q1"
   ]
  },
  {
   "cell_type": "code",
   "execution_count": 41,
   "metadata": {},
   "outputs": [
    {
     "data": {
      "text/plain": [
       "array([[5.07793064]])"
      ]
     },
     "execution_count": 41,
     "metadata": {},
     "output_type": "execute_result"
    }
   ],
   "source": [
    "reg.coef_"
   ]
  },
  {
   "cell_type": "markdown",
   "metadata": {},
   "source": [
    "Q2"
   ]
  },
  {
   "cell_type": "code",
   "execution_count": 53,
   "metadata": {},
   "outputs": [
    {
     "data": {
      "text/plain": [
       "0.8782624703664672"
      ]
     },
     "execution_count": 53,
     "metadata": {},
     "output_type": "execute_result"
    }
   ],
   "source": [
    "\n",
    "#pred=reg.predict(ages_test)\n",
    "reg.score(ages_test,net_worths_test)"
   ]
  },
  {
   "cell_type": "code",
   "execution_count": 6,
   "metadata": {},
   "outputs": [
    {
     "data": {
      "image/png": "[encoded data removed]",
      "text/plain": [
       "<Figure size 432x288 with 1 Axes>"
      ]
     },
     "metadata": {
      "needs_background": "light"
     },
     "output_type": "display_data"
    }
   ],
   "source": [
    "try:\n",
    "    plt.plot(ages, reg.predict(ages), color=\"blue\")\n",
    "except NameError:\n",
    "    pass\n",
    "plt.scatter(ages, net_worths)\n",
    "plt.show()"
   ]
  },
  {
   "cell_type": "code",
   "execution_count": null,
   "metadata": {},
   "outputs": [],
   "source": []
  },
  {
   "cell_type": "markdown",
   "metadata": {},
   "source": [
    "## Identify and remove the most outlier-y points"
   ]
  },
  {
   "cell_type": "code",
   "execution_count": 29,
   "metadata": {},
   "outputs": [],
   "source": [
    "def outlier_cleaner(predictions, ages, net_worths):\n",
    "    \"\"\"Clean away the 10% of points that have the largest\n",
    "    residual errors (difference between the prediction\n",
    "    and the actual net worth).\n",
    "\n",
    "    Return a list of tuples named cleaned_data where\n",
    "    each tuple is of the form (age, net_worth, error).\n",
    "    \"\"\"\n",
    "    cleaned_data = []\n",
    "    uncleaned_data = []\n",
    "    \n",
    "\n",
    "    ### your code goes here\n",
    "    i = len(ages)\n",
    "    for a in range(i):\n",
    "        error = net_worths[a][0]-predictions[a][0]\n",
    "        uncleaned_data.append((ages[a][0], net_worths[a][0], abs(error)))\n",
    "    print(\"number of entries before cleaning\", len(uncleaned_data))\n",
    "    for b in range(9):\n",
    "        lagrest_error = uncleaned_data[0][2]\n",
    "        i = len(uncleaned_data)\n",
    "        for a in range(i):\n",
    "            if lagrest_error < uncleaned_data[a][2]:\n",
    "               lagrest_error = uncleaned_data[a][2]\n",
    "               largest_error_number = a\n",
    "        print(\"deleted:\",uncleaned_data[largest_error_number])\n",
    "        del uncleaned_data[largest_error_number]\n",
    "    cleaned_data = uncleaned_data\n",
    "    print(\"number of entries after cleaning\", len(uncleaned_data))\n",
    "    return cleaned_data"
   ]
  },
  {
   "cell_type": "code",
   "execution_count": 30,
   "metadata": {},
   "outputs": [
    {
     "name": "stdout",
     "output_type": "stream",
     "text": [
      "number of entries before cleaning 90\n",
      "deleted: (65, 34.19027438129125, 321.08523898796125)\n",
      "deleted: (64, 122.70221488837397, 227.49536783743827)\n",
      "deleted: (37, 16.507788679151513, 196.58566667377383)\n",
      "deleted: (59, 129.10958748845152, 195.69834202015946)\n",
      "deleted: (56, 121.11602327460938, 188.45811430368084)\n",
      "deleted: (48, 80.9013362873476, 188.0493561434206)\n",
      "deleted: (44, 64.06616829393845, 184.5728015630687)\n",
      "deleted: (22, 47.70052124577958, 89.22397445554193)\n",
      "deleted: (39, 134.41369498852399, 88.83562165128185)\n",
      "number of entries after cleaning 81\n"
     ]
    }
   ],
   "source": [
    "cleaned_data = []\n",
    "\n",
    "try:\n",
    "    predictions = reg.predict(ages_train)\n",
    "    cleaned_data = outlier_cleaner(predictions, ages_train, net_worths_train)\n",
    "except NameError:\n",
    "    print(\"Your regression object doesn't exist, or isn't name reg\")\n",
    "    print(\"Can't make predictions to use in identifying outliers\")"
   ]
  },
  {
   "cell_type": "code",
   "execution_count": null,
   "metadata": {},
   "outputs": [],
   "source": []
  },
  {
   "cell_type": "markdown",
   "metadata": {},
   "source": [
    "**Only run this code if `cleaned_data` is returning data**"
   ]
  },
  {
   "cell_type": "code",
   "execution_count": 54,
   "metadata": {},
   "outputs": [
    {
     "data": {
      "image/png": "[encoded data removed]",
      "text/plain": [
       "<Figure size 432x288 with 1 Axes>"
      ]
     },
     "metadata": {
      "needs_background": "light"
     },
     "output_type": "display_data"
    }
   ],
   "source": [
    "if cleaned_data:\n",
    "    ages, net_worths, errors = zip(*cleaned_data)\n",
    "    ages = np.reshape(np.array(ages), (len(ages), 1))\n",
    "    net_worths = np.reshape(np.array(net_worths), (len(net_worths), 1))\n",
    "\n",
    "    # Refit your cleaned data!\n",
    "\n",
    "    try:\n",
    "        reg.fit(ages, net_worths)\n",
    "        plt.plot(ages, reg.predict(ages), color=\"blue\")\n",
    "    except NameError:\n",
    "        print(\"you don't seem to have regression imported/created,\")\n",
    "        print(\"   or else your regression object isn't named reg\")\n",
    "        print(\"   either way, only draw the scatter plot of the cleaned data\")\n",
    "\n",
    "    plt.scatter(ages, net_worths)\n",
    "    plt.xlabel(\"ages\")\n",
    "    plt.ylabel(\"net worths\")\n",
    "    plt.show()\n",
    "else:\n",
    "    print(\"outlier_cleaner() is returning an empty list, no refitting to be done\")"
   ]
  },
  {
   "cell_type": "markdown",
   "metadata": {},
   "source": [
    "Q3"
   ]
  },
  {
   "cell_type": "code",
   "execution_count": 32,
   "metadata": {},
   "outputs": [
    {
     "data": {
      "text/plain": [
       "array([[6.36859481]])"
      ]
     },
     "execution_count": 32,
     "metadata": {},
     "output_type": "execute_result"
    }
   ],
   "source": [
    "reg.coef_"
   ]
  },
  {
   "cell_type": "markdown",
   "metadata": {},
   "source": [
    "Q4"
   ]
  },
  {
   "cell_type": "code",
   "execution_count": 55,
   "metadata": {},
   "outputs": [
    {
     "data": {
      "text/plain": [
       "0.983189455395532"
      ]
     },
     "execution_count": 55,
     "metadata": {},
     "output_type": "execute_result"
    }
   ],
   "source": [
    "\n",
    "#pred=reg.predict(ages_test)\n",
    "reg.score(ages_test,net_worths_test)"
   ]
  },
  {
   "cell_type": "markdown",
   "metadata": {},
   "source": [
    "## Enron Outliers"
   ]
  },
  {
   "cell_type": "code",
   "execution_count": 56,
   "metadata": {},
   "outputs": [],
   "source": [
    "import sys\n",
    "import pickle\n",
    "import matplotlib.pyplot\n",
    "\n",
    "sys.path.append(\"../utils/\")\n",
    "\n",
    "from feature_format import feature_format, target_feature_split"
   ]
  },
  {
   "cell_type": "markdown",
   "metadata": {},
   "source": [
    "read in data dictionary, convert to numpy array"
   ]
  },
  {
   "cell_type": "code",
   "execution_count": 85,
   "metadata": {},
   "outputs": [],
   "source": [
    "with open('../17-final-project/final_project_dataset.pkl', 'rb') as f:\n",
    "    data_dict = pickle.load(f)\n",
    "\n",
    "features = [\"salary\", \"bonus\"]\n",
    "data_dict.pop('TOTAL',0)\n",
    "\n",
    "data = feature_format(data_dict, features)"
   ]
  },
  {
   "cell_type": "code",
   "execution_count": null,
   "metadata": {},
   "outputs": [],
   "source": []
  },
  {
   "cell_type": "markdown",
   "metadata": {},
   "source": [
    "## ↓↓↓ Your Code Goes Here ↓↓↓"
   ]
  },
  {
   "cell_type": "code",
   "execution_count": 86,
   "metadata": {},
   "outputs": [
    {
     "data": {
      "image/png": "[encoded data removed]",
      "text/plain": [
       "<Figure size 432x288 with 1 Axes>"
      ]
     },
     "metadata": {
      "needs_background": "light"
     },
     "output_type": "display_data"
    }
   ],
   "source": [
    "for point in data:\n",
    "    salary = point[0]\n",
    "    bonus = point[1]\n",
    "    matplotlib.pyplot.scatter( salary, bonus )\n",
    "\n",
    "matplotlib.pyplot.xlabel(\"salary\")\n",
    "matplotlib.pyplot.ylabel(\"bonus\")\n",
    "matplotlib.pyplot.show()"
   ]
  },
  {
   "cell_type": "code",
   "execution_count": 88,
   "metadata": {},
   "outputs": [
    {
     "data": {
      "text/html": [
       "<div>\n",
       "<style scoped>\n",
       "    .dataframe tbody tr th:only-of-type {\n",
       "        vertical-align: middle;\n",
       "    }\n",
       "\n",
       "    .dataframe tbody tr th {\n",
       "        vertical-align: top;\n",
       "    }\n",
       "\n",
       "    .dataframe thead th {\n",
       "        text-align: right;\n",
       "    }\n",
       "</style>\n",
       "<table border=\"1\" class=\"dataframe\">\n",
       "  <thead>\n",
       "    <tr style=\"text-align: right;\">\n",
       "      <th></th>\n",
       "      <th>METTS MARK</th>\n",
       "      <th>BAXTER JOHN C</th>\n",
       "      <th>ELLIOTT STEVEN</th>\n",
       "      <th>CORDES WILLIAM R</th>\n",
       "      <th>HANNON KEVIN P</th>\n",
       "      <th>MORDAUNT KRISTINA M</th>\n",
       "      <th>MEYER ROCKFORD G</th>\n",
       "      <th>MCMAHON JEFFREY</th>\n",
       "      <th>HAEDICKE MARK E</th>\n",
       "      <th>PIPER GREGORY F</th>\n",
       "      <th>...</th>\n",
       "      <th>SAVAGE FRANK</th>\n",
       "      <th>IZZO LAWRENCE L</th>\n",
       "      <th>TILNEY ELIZABETH A</th>\n",
       "      <th>MARTIN AMANDA K</th>\n",
       "      <th>BUY RICHARD B</th>\n",
       "      <th>GRAMM WENDY L</th>\n",
       "      <th>CAUSEY RICHARD A</th>\n",
       "      <th>TAYLOR MITCHELL S</th>\n",
       "      <th>DONAHUE JR JEFFREY M</th>\n",
       "      <th>GLISAN JR BEN F</th>\n",
       "    </tr>\n",
       "  </thead>\n",
       "  <tbody>\n",
       "    <tr>\n",
       "      <th>salary</th>\n",
       "      <td>365788</td>\n",
       "      <td>267102</td>\n",
       "      <td>170941</td>\n",
       "      <td>NaN</td>\n",
       "      <td>243293</td>\n",
       "      <td>267093</td>\n",
       "      <td>NaN</td>\n",
       "      <td>370448</td>\n",
       "      <td>374125</td>\n",
       "      <td>197091</td>\n",
       "      <td>...</td>\n",
       "      <td>NaN</td>\n",
       "      <td>85274</td>\n",
       "      <td>247338</td>\n",
       "      <td>349487</td>\n",
       "      <td>330546</td>\n",
       "      <td>NaN</td>\n",
       "      <td>415189</td>\n",
       "      <td>265214</td>\n",
       "      <td>278601</td>\n",
       "      <td>274975</td>\n",
       "    </tr>\n",
       "    <tr>\n",
       "      <th>to_messages</th>\n",
       "      <td>807</td>\n",
       "      <td>NaN</td>\n",
       "      <td>NaN</td>\n",
       "      <td>764</td>\n",
       "      <td>1045</td>\n",
       "      <td>NaN</td>\n",
       "      <td>232</td>\n",
       "      <td>2355</td>\n",
       "      <td>4009</td>\n",
       "      <td>1238</td>\n",
       "      <td>...</td>\n",
       "      <td>NaN</td>\n",
       "      <td>496</td>\n",
       "      <td>460</td>\n",
       "      <td>1522</td>\n",
       "      <td>3523</td>\n",
       "      <td>NaN</td>\n",
       "      <td>1892</td>\n",
       "      <td>533</td>\n",
       "      <td>865</td>\n",
       "      <td>873</td>\n",
       "    </tr>\n",
       "    <tr>\n",
       "      <th>deferral_payments</th>\n",
       "      <td>NaN</td>\n",
       "      <td>1295738</td>\n",
       "      <td>NaN</td>\n",
       "      <td>NaN</td>\n",
       "      <td>NaN</td>\n",
       "      <td>NaN</td>\n",
       "      <td>1848227</td>\n",
       "      <td>NaN</td>\n",
       "      <td>2157527</td>\n",
       "      <td>1130036</td>\n",
       "      <td>...</td>\n",
       "      <td>NaN</td>\n",
       "      <td>NaN</td>\n",
       "      <td>NaN</td>\n",
       "      <td>85430</td>\n",
       "      <td>649584</td>\n",
       "      <td>NaN</td>\n",
       "      <td>NaN</td>\n",
       "      <td>227449</td>\n",
       "      <td>NaN</td>\n",
       "      <td>NaN</td>\n",
       "    </tr>\n",
       "    <tr>\n",
       "      <th>total_payments</th>\n",
       "      <td>1061827</td>\n",
       "      <td>5634343</td>\n",
       "      <td>211725</td>\n",
       "      <td>NaN</td>\n",
       "      <td>288682</td>\n",
       "      <td>628522</td>\n",
       "      <td>1848227</td>\n",
       "      <td>4099771</td>\n",
       "      <td>3859065</td>\n",
       "      <td>1737629</td>\n",
       "      <td>...</td>\n",
       "      <td>3750</td>\n",
       "      <td>1979596</td>\n",
       "      <td>399393</td>\n",
       "      <td>8407016</td>\n",
       "      <td>2355702</td>\n",
       "      <td>119292</td>\n",
       "      <td>1868758</td>\n",
       "      <td>1092663</td>\n",
       "      <td>875760</td>\n",
       "      <td>1272284</td>\n",
       "    </tr>\n",
       "    <tr>\n",
       "      <th>loan_advances</th>\n",
       "      <td>NaN</td>\n",
       "      <td>NaN</td>\n",
       "      <td>NaN</td>\n",
       "      <td>NaN</td>\n",
       "      <td>NaN</td>\n",
       "      <td>NaN</td>\n",
       "      <td>NaN</td>\n",
       "      <td>NaN</td>\n",
       "      <td>NaN</td>\n",
       "      <td>NaN</td>\n",
       "      <td>...</td>\n",
       "      <td>NaN</td>\n",
       "      <td>NaN</td>\n",
       "      <td>NaN</td>\n",
       "      <td>NaN</td>\n",
       "      <td>NaN</td>\n",
       "      <td>NaN</td>\n",
       "      <td>NaN</td>\n",
       "      <td>NaN</td>\n",
       "      <td>NaN</td>\n",
       "      <td>NaN</td>\n",
       "    </tr>\n",
       "  </tbody>\n",
       "</table>\n",
       "<p>5 rows × 145 columns</p>\n",
       "</div>"
      ],
      "text/plain": [
       "                  METTS MARK BAXTER JOHN C ELLIOTT STEVEN CORDES WILLIAM R  \\\n",
       "salary                365788        267102         170941              NaN   \n",
       "to_messages              807           NaN            NaN              764   \n",
       "deferral_payments        NaN       1295738            NaN              NaN   \n",
       "total_payments       1061827       5634343         211725              NaN   \n",
       "loan_advances            NaN           NaN            NaN              NaN   \n",
       "\n",
       "                  HANNON KEVIN P MORDAUNT KRISTINA M MEYER ROCKFORD G  \\\n",
       "salary                    243293              267093              NaN   \n",
       "to_messages                 1045                 NaN              232   \n",
       "deferral_payments            NaN                 NaN          1848227   \n",
       "total_payments            288682              628522          1848227   \n",
       "loan_advances                NaN                 NaN              NaN   \n",
       "\n",
       "                  MCMAHON JEFFREY HAEDICKE MARK E PIPER GREGORY F  ...  \\\n",
       "salary                     370448          374125          197091  ...   \n",
       "to_messages                  2355            4009            1238  ...   \n",
       "deferral_payments             NaN         2157527         1130036  ...   \n",
       "total_payments            4099771         3859065         1737629  ...   \n",
       "loan_advances                 NaN             NaN             NaN  ...   \n",
       "\n",
       "                  SAVAGE FRANK IZZO LAWRENCE L TILNEY ELIZABETH A  \\\n",
       "salary                     NaN           85274             247338   \n",
       "to_messages                NaN             496                460   \n",
       "deferral_payments          NaN             NaN                NaN   \n",
       "total_payments            3750         1979596             399393   \n",
       "loan_advances              NaN             NaN                NaN   \n",
       "\n",
       "                  MARTIN AMANDA K BUY RICHARD B GRAMM WENDY L  \\\n",
       "salary                     349487        330546           NaN   \n",
       "to_messages                  1522          3523           NaN   \n",
       "deferral_payments           85430        649584           NaN   \n",
       "total_payments            8407016       2355702        119292   \n",
       "loan_advances                 NaN           NaN           NaN   \n",
       "\n",
       "                  CAUSEY RICHARD A TAYLOR MITCHELL S DONAHUE JR JEFFREY M  \\\n",
       "salary                      415189            265214               278601   \n",
       "to_messages                   1892               533                  865   \n",
       "deferral_payments              NaN            227449                  NaN   \n",
       "total_payments             1868758           1092663               875760   \n",
       "loan_advances                  NaN               NaN                  NaN   \n",
       "\n",
       "                  GLISAN JR BEN F  \n",
       "salary                     274975  \n",
       "to_messages                   873  \n",
       "deferral_payments             NaN  \n",
       "total_payments            1272284  \n",
       "loan_advances                 NaN  \n",
       "\n",
       "[5 rows x 145 columns]"
      ]
     },
     "execution_count": 88,
     "metadata": {},
     "output_type": "execute_result"
    }
   ],
   "source": [
    "import pandas as pd\n",
    "df=pd.DataFrame(data_dict)\n",
    "df.head()"
   ]
  },
  {
   "cell_type": "code",
   "execution_count": 105,
   "metadata": {},
   "outputs": [
    {
     "name": "stdout",
     "output_type": "stream",
     "text": [
      "LAY KENNETH L\n",
      "SKILLING JEFFREY K\n"
     ]
    }
   ],
   "source": [
    "for name in df.columns:\n",
    "    \n",
    "    if (df.loc['salary',name]>10**6)and(df.loc['bonus',name]>5*10**6):\n",
    "        print(name)"
   ]
  },
  {
   "cell_type": "code",
   "execution_count": 101,
   "metadata": {},
   "outputs": [
    {
     "name": "stdout",
     "output_type": "stream",
     "text": [
      "['LAY KENNETH L', 'SKILLING JEFFREY K']\n"
     ]
    }
   ],
   "source": [
    "print( [name for name in df.columns if df.loc['salary', name] > 10**6 and df.loc['bonus',name] > 5*10**6])"
   ]
  }
 ],
 "metadata": {
  "kernelspec": {
   "display_name": "Python 3",
   "language": "python",
   "name": "python3"
  },
  "language_info": {
   "codemirror_mode": {
    "name": "ipython",
    "version": 3
   },
   "file_extension": ".py",
   "mimetype": "text/x-python",
   "name": "python",
   "nbconvert_exporter": "python",
   "pygments_lexer": "ipython3",
   "version": "3.8.5"
  }
 },
 "nbformat": 4,
 "nbformat_minor": 4
}
